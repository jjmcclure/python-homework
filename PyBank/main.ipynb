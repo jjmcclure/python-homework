{
 "cells": [
  {
   "cell_type": "code",
   "execution_count": 16,
   "metadata": {},
   "outputs": [
    {
     "name": "stdout",
     "output_type": "stream",
     "text": [
      "Financial Analysis\n",
      "---------------------------\n",
      "Total Months: 86\n",
      "Total: $38,382,578.00\n",
      "Average  Change: $441,179.06 \n",
      "Greatest Increase in Profits: Feb-2012 ($1,170,593.00)\n",
      "Greatest Decrease in Profits: Sep-2013 ($-1196225.0)\n"
     ]
    }
   ],
   "source": [
    "#import csv parsing cape\n",
    "import csv\n",
    "import locale\n",
    "locale.setlocale( locale.LC_ALL, '' )\n",
    "#open the file\n",
    "with open('budget_data.csv') as csv_file:\n",
    "#read the file to memory and create working variables: total months, net total p/l, avg delta in p.l\n",
    "#... greatest increase in profits, greatest decrease in losses\n",
    "    csv_reader = csv.reader(csv_file, delimiter=',')\n",
    "    prev_mon_pl = 0.0\n",
    "    net_tot_pl = 0.0\n",
    "    avg_delta_pl = 0.0\n",
    "    biggest_prof_increase = 0.0\n",
    "    prof_increase_month = \"\"\n",
    "    biggest_loss_decrease = 0.0\n",
    "    prof_decrease_month = \"\"\n",
    "    line_count = 0\n",
    "    column_name1=\"\"\n",
    "    column_name2=\"\"\n",
    "    for row in csv_reader:\n",
    "        if line_count == 0:\n",
    "            column_name1=row[0]\n",
    "            column_name2=row[1]\n",
    "            #print(f'{column_name1} , {column_name2}')\n",
    "            line_count += 1\n",
    "        else:\n",
    "            #greatest increase in profit (date and amount) over the entire period\n",
    "            if biggest_prof_increase == 0.0:\n",
    "                #print(f'{float(row[1])} > {prev_mon_pl}')\n",
    "                biggest_prof_increase = float(row[1])\n",
    "                prof_increase_month = row[1]\n",
    "            elif float(row[1]) > biggest_prof_increase:\n",
    "                #print(f'{float(row[1])} > {prev_mon_pl}')\n",
    "                biggest_prof_increase = float(row[1])\n",
    "                prof_increase_month = row[0]\n",
    "            #greatest decrease in losses (date and amount) over entire period\n",
    "            if biggest_loss_decrease == 0:\n",
    "                biggest_loss_decrease = float(row[1])\n",
    "                prof_decrease_month = row[1]\n",
    "            elif float(row[1]) < biggest_loss_decrease:\n",
    "                biggest_loss_decrease = float(row[1])\n",
    "                prof_decrease_month = row[0]            \n",
    "            #calc profit/loss over the given period\n",
    "            net_tot_pl += float(row[1])\n",
    "            prev_mon_pl = float(row[1])\n",
    "            #locale.setlocale( locale.LC_ALL, '' )\n",
    "            #print(f'{locale.currency(net_tot_pl, grouping=True)}')\n",
    "            #count months in the dataset\n",
    "            line_count += 1\n",
    "    #avg of changes in p/l over the entire period\n",
    "    avg_delta_pl = locale.currency(float(net_tot_pl/line_count), grouping=True)\n",
    "    print(\"Financial Analysis\")\n",
    "    print(\"---------------------------\")\n",
    "    print(f'Total Months: {line_count-1}')\n",
    "    print(f'Total: {locale.currency(net_tot_pl, grouping=True)}')\n",
    "    print(f'Average  Change: {avg_delta_pl} ')\n",
    "    print(f'Greatest Increase in Profits: {prof_increase_month} ({locale.currency(biggest_prof_increase, grouping=True)})')\n",
    "    print(f'Greatest Decrease in Profits: {prof_decrease_month} (${biggest_loss_decrease})')\n",
    "\n",
    "\n"
   ]
  },
  {
   "cell_type": "code",
   "execution_count": 17,
   "metadata": {},
   "outputs": [
    {
     "name": "stdout",
     "output_type": "stream",
     "text": [
      "Current Working Directory: C:\\Users\\James McClure\\python-homework\\PyBank\n"
     ]
    }
   ],
   "source": [
    "#open fil\n",
    "from pathlib import Path\n",
    "print(f\"Current Working Directory: {Path.cwd()}\")"
   ]
  },
  {
   "cell_type": "code",
   "execution_count": 18,
   "metadata": {},
   "outputs": [],
   "source": [
    "#write to file\n",
    "with open(\"myfile.txt\", 'w') as file:\n",
    "    file.write(\"Financial Analysis\\n\")\n",
    "    file.write(\"---------------------------\\n\")\n",
    "    file.write(f'Total Months: {line_count-1}\\n')\n",
    "    file.write(f'Total: {locale.currency(net_tot_pl, grouping=True)}\\n')\n",
    "    file.write(f'Average  Change: {avg_delta_pl} \\n')\n",
    "    file.write(f'Greatest Increase in Profits: {prof_increase_month} ({locale.currency(biggest_prof_increase, grouping=True)})\\n')\n",
    "    file.write(f'Greatest Decrease in Profits: {prof_decrease_month} (${biggest_loss_decrease})\\n')\n"
   ]
  },
  {
   "cell_type": "code",
   "execution_count": null,
   "metadata": {},
   "outputs": [],
   "source": []
  },
  {
   "cell_type": "code",
   "execution_count": null,
   "metadata": {},
   "outputs": [],
   "source": []
  }
 ],
 "metadata": {
  "kernelspec": {
   "display_name": "Python 3",
   "language": "python",
   "name": "python3"
  },
  "language_info": {
   "codemirror_mode": {
    "name": "ipython",
    "version": 3
   },
   "file_extension": ".py",
   "mimetype": "text/x-python",
   "name": "python",
   "nbconvert_exporter": "python",
   "pygments_lexer": "ipython3",
   "version": "3.7.6"
  }
 },
 "nbformat": 4,
 "nbformat_minor": 4
}
